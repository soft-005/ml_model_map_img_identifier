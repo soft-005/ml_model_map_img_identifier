{
  "nbformat": 4,
  "nbformat_minor": 0,
  "metadata": {
    "colab": {
      "provenance": [],
      "authorship_tag": "ABX9TyMD0JLsyu1N03iFs3fmTE73",
      "include_colab_link": true
    },
    "kernelspec": {
      "name": "python3",
      "display_name": "Python 3"
    },
    "language_info": {
      "name": "python"
    }
  },
  "cells": [
    {
      "cell_type": "markdown",
      "metadata": {
        "id": "view-in-github",
        "colab_type": "text"
      },
      "source": [
        "<a href=\"https://colab.research.google.com/github/soft-005/ml_model_map_img_identifier/blob/main/first_model.ipynb\" target=\"_parent\"><img src=\"https://colab.research.google.com/assets/colab-badge.svg\" alt=\"Open In Colab\"/></a>"
      ]
    },
    {
      "cell_type": "markdown",
      "source": [
        "###ML model\n",
        "steps:\n",
        "1."
      ],
      "metadata": {
        "id": "P5BN0Zash4Wf"
      }
    },
    {
      "cell_type": "code",
      "source": [],
      "metadata": {
        "id": "haVjCpv2h-rx"
      },
      "execution_count": null,
      "outputs": []
    }
  ]
}